{
  "nbformat": 4,
  "nbformat_minor": 0,
  "metadata": {
    "colab": {
      "provenance": []
    },
    "kernelspec": {
      "name": "python3",
      "display_name": "Python 3"
    },
    "language_info": {
      "name": "python"
    }
  },
  "cells": [
    {
      "cell_type": "markdown",
      "source": [
        "#### **NumPy Basics for Data Science: A Beginner-Friendly Guide**"
      ],
      "metadata": {
        "id": "71TJWWrLrSRw"
      }
    },
    {
      "cell_type": "markdown",
      "source": [
        "# Why NumPy is Needed When We Have Python Lists ?\n",
        "\n",
        "- Speed\n",
        "- Element-wise operations\n",
        "- Broadcasting"
      ],
      "metadata": {
        "id": "eLu_wvZCrXQE"
      }
    },
    {
      "cell_type": "markdown",
      "source": [
        "### Explanation\n",
        "Python lists are versatile and easy to use, but they are not efficient for numerical computations. NumPy arrays offer speed, memory efficiency, and functionality tailored for numerical and data science tasks."
      ],
      "metadata": {
        "id": "N-r35m2argXN"
      }
    },
    {
      "cell_type": "markdown",
      "source": [
        "### Example: Comparing Python Lists and NumPy Arrays"
      ],
      "metadata": {
        "id": "J1uEH2lKrjwd"
      }
    },
    {
      "cell_type": "code",
      "source": [
        "import numpy as np\n",
        "import time"
      ],
      "metadata": {
        "id": "HYbtuftfrnuN"
      },
      "execution_count": null,
      "outputs": []
    },
    {
      "cell_type": "code",
      "source": [
        "# Create two small lists and two small NumPy arrays\n",
        "python_list1 = [i for i in range(1000000)]\n",
        "python_list2 = [i for i in range(1000000)]"
      ],
      "metadata": {
        "id": "6HAAtGNrrseW"
      },
      "execution_count": null,
      "outputs": []
    },
    {
      "cell_type": "code",
      "source": [
        "numpy_array1 = np.array(python_list1)\n",
        "numpy_array2 = np.array(python_list2)"
      ],
      "metadata": {
        "id": "B9WXW9eDsFr_"
      },
      "execution_count": null,
      "outputs": []
    },
    {
      "cell_type": "code",
      "source": [
        "# Adding Python lists\n",
        "start_time = time.time()\n",
        "python_sum = [python_list1[i] + python_list2[i] for i in range(len(python_list1))]\n",
        "end_time = time.time()\n",
        "python_time = end_time - start_time\n",
        "print(\"Time taken using Python list:\", python_time, \"seconds\")"
      ],
      "metadata": {
        "colab": {
          "base_uri": "https://localhost:8080/"
        },
        "id": "dBzPoXUPryIH",
        "outputId": "3c001255-a2dd-4d75-bcba-8e067113d23f"
      },
      "execution_count": null,
      "outputs": [
        {
          "output_type": "stream",
          "name": "stdout",
          "text": [
            "Time taken using Python list: 0.1146860122680664 seconds\n"
          ]
        }
      ]
    },
    {
      "cell_type": "code",
      "source": [
        "# Adding NumPy arrays\n",
        "start_time = time.time()\n",
        "numpy_sum = numpy_array1 + numpy_array2\n",
        "end_time = time.time()\n",
        "numpy_time = end_time - start_time\n",
        "print(\"Time taken using NumPy array:\", numpy_time, \"seconds\")"
      ],
      "metadata": {
        "colab": {
          "base_uri": "https://localhost:8080/"
        },
        "id": "G8kY1Vz1r3hl",
        "outputId": "1e925039-5446-4195-e41d-931baea60ee0"
      },
      "execution_count": null,
      "outputs": [
        {
          "output_type": "stream",
          "name": "stdout",
          "text": [
            "Time taken using NumPy array: 0.010779619216918945 seconds\n"
          ]
        }
      ]
    },
    {
      "cell_type": "code",
      "source": [
        "# Comparing speed\n",
        "speedup = python_time / numpy_time\n",
        "print(f\"NumPy is approximately {speedup:.2f} times faster than Python lists for this operation.\")"
      ],
      "metadata": {
        "colab": {
          "base_uri": "https://localhost:8080/"
        },
        "id": "U94rHRr0sdxt",
        "outputId": "fdc077c3-6eb8-4e1f-83c9-c01902ad829b"
      },
      "execution_count": null,
      "outputs": [
        {
          "output_type": "stream",
          "name": "stdout",
          "text": [
            "NumPy is approximately 10.64 times faster than Python lists for this operation.\n"
          ]
        }
      ]
    },
    {
      "cell_type": "markdown",
      "source": [
        "---"
      ],
      "metadata": {
        "id": "7we0SrTcrj7t"
      }
    },
    {
      "cell_type": "markdown",
      "source": [
        "# Creating numpy arrays"
      ],
      "metadata": {
        "id": "WEABjb0Vrj-9"
      }
    },
    {
      "cell_type": "markdown",
      "source": [
        "### 0D Array (Scalar)"
      ],
      "metadata": {
        "id": "CuRFIt29u7n1"
      }
    },
    {
      "cell_type": "code",
      "source": [
        "scalar = np.array(42)\n",
        "print(\"0D Array (Scalar):\", scalar)\n",
        "print(\"Shape:\", scalar.shape)"
      ],
      "metadata": {
        "colab": {
          "base_uri": "https://localhost:8080/"
        },
        "id": "NMKcWU3ltKD8",
        "outputId": "8f41077c-1f33-4645-ba71-f0ec53b7296c"
      },
      "execution_count": null,
      "outputs": [
        {
          "output_type": "stream",
          "name": "stdout",
          "text": [
            "0D Array (Scalar): 42\n",
            "Shape: ()\n"
          ]
        }
      ]
    },
    {
      "cell_type": "markdown",
      "source": [
        "### 1D Array"
      ],
      "metadata": {
        "id": "ENHVrsdWu9ON"
      }
    },
    {
      "cell_type": "code",
      "source": [
        "array_1d = np.array([1, 2, 3, 4, 5])\n",
        "print(\"1D Array:\", array_1d)\n",
        "print(\"Shape:\", array_1d.shape)"
      ],
      "metadata": {
        "colab": {
          "base_uri": "https://localhost:8080/"
        },
        "id": "PrAg0W2ntOF9",
        "outputId": "a98592df-7e33-44af-d87f-572ed80924c1"
      },
      "execution_count": null,
      "outputs": [
        {
          "output_type": "stream",
          "name": "stdout",
          "text": [
            "1D Array: [1 2 3 4 5]\n",
            "Shape: (5,)\n"
          ]
        }
      ]
    },
    {
      "cell_type": "markdown",
      "source": [
        "### 2D Array"
      ],
      "metadata": {
        "id": "QHVLqBWnu-0N"
      }
    },
    {
      "cell_type": "code",
      "source": [
        "array_2d = np.array([[1, 2, 3], [4, 5, 6]])\n",
        "print(\"2D Array:\")\n",
        "print(array_2d)\n",
        "print(\"Shape:\", array_2d.shape)"
      ],
      "metadata": {
        "colab": {
          "base_uri": "https://localhost:8080/"
        },
        "id": "fcTcHgSYtRpW",
        "outputId": "fb60b86c-165f-4d3c-dbf9-4f15f8f032b9"
      },
      "execution_count": null,
      "outputs": [
        {
          "output_type": "stream",
          "name": "stdout",
          "text": [
            "2D Array:\n",
            "[[1 2 3]\n",
            " [4 5 6]]\n",
            "Shape: (2, 3)\n"
          ]
        }
      ]
    },
    {
      "cell_type": "markdown",
      "source": [
        "### 3D Array"
      ],
      "metadata": {
        "id": "uJA8JUZ2u__d"
      }
    },
    {
      "cell_type": "code",
      "source": [
        "array_3d = np.array([[[1, 2, 3], [4, 5, 6]], [[7, 8, 9], [10, 11, 12]]])\n",
        "print(\"3D Array:\")\n",
        "print(array_3d)\n",
        "print(\"Shape:\", array_3d.shape)"
      ],
      "metadata": {
        "colab": {
          "base_uri": "https://localhost:8080/"
        },
        "id": "Fac6fusutVY9",
        "outputId": "2bd34bd3-19a1-4bf1-d8bc-1fbd1ade6185"
      },
      "execution_count": null,
      "outputs": [
        {
          "output_type": "stream",
          "name": "stdout",
          "text": [
            "3D Array:\n",
            "[[[ 1  2  3]\n",
            "  [ 4  5  6]]\n",
            "\n",
            " [[ 7  8  9]\n",
            "  [10 11 12]]]\n",
            "Shape: (2, 2, 3)\n"
          ]
        }
      ]
    },
    {
      "cell_type": "markdown",
      "source": [
        "### Can We Create 4D or Higher Dimensions?"
      ],
      "metadata": {
        "id": "aMQFteZprkBl"
      }
    },
    {
      "cell_type": "markdown",
      "source": [
        "Yes! NumPy supports arrays with more than 3 dimensions."
      ],
      "metadata": {
        "id": "4PWiU0HpvDwd"
      }
    },
    {
      "cell_type": "markdown",
      "source": [
        "###  4D array"
      ],
      "metadata": {
        "id": "bIRILsdFvBnk"
      }
    },
    {
      "cell_type": "code",
      "source": [
        "array_4d = np.random.rand(2, 2, 2, 2)\n",
        "print(\"4D Array:\")\n",
        "print(array_4d)\n",
        "print(\"Shape:\", array_4d.shape)"
      ],
      "metadata": {
        "colab": {
          "base_uri": "https://localhost:8080/"
        },
        "id": "3IfbrrBLulDV",
        "outputId": "503ec201-6c11-47fa-8740-15744a32c68a"
      },
      "execution_count": null,
      "outputs": [
        {
          "output_type": "stream",
          "name": "stdout",
          "text": [
            "4D Array:\n",
            "[[[[0.05691064 0.90429059]\n",
            "   [0.84799349 0.56583088]]\n",
            "\n",
            "  [[0.96285618 0.95329585]\n",
            "   [0.34951847 0.60783686]]]\n",
            "\n",
            "\n",
            " [[[0.7538548  0.99768314]\n",
            "   [0.32736809 0.09041516]]\n",
            "\n",
            "  [[0.29343473 0.92258336]\n",
            "   [0.1672475  0.06774574]]]]\n",
            "Shape: (2, 2, 2, 2)\n"
          ]
        }
      ]
    },
    {
      "cell_type": "markdown",
      "source": [
        "---"
      ],
      "metadata": {
        "id": "_LRtWGjNvWdl"
      }
    },
    {
      "cell_type": "markdown",
      "source": [
        "# Different Ways to Create Arrays"
      ],
      "metadata": {
        "id": "PqvSdnUNrkEN"
      }
    },
    {
      "cell_type": "markdown",
      "source": [
        "### Using `np.array()`"
      ],
      "metadata": {
        "id": "bksaEjrSrkHF"
      }
    },
    {
      "cell_type": "code",
      "source": [
        "array_from_list = np.array([1, 2, 3, 4])\n",
        "print(\"Array from list:\", array_from_list)"
      ],
      "metadata": {
        "colab": {
          "base_uri": "https://localhost:8080/"
        },
        "id": "nBYrBYDavZ1b",
        "outputId": "ff061cd0-be88-4b73-ea00-09141c9980dd"
      },
      "execution_count": null,
      "outputs": [
        {
          "output_type": "stream",
          "name": "stdout",
          "text": [
            "Array from list: [1 2 3 4]\n"
          ]
        }
      ]
    },
    {
      "cell_type": "markdown",
      "source": [],
      "metadata": {
        "id": "98kJNmnFvcFV"
      }
    },
    {
      "cell_type": "markdown",
      "source": [
        "### Using `np.zeros()`"
      ],
      "metadata": {
        "id": "nHwMRIdMvfws"
      }
    },
    {
      "cell_type": "code",
      "source": [
        "zeros_array = np.zeros((2, 3))\n",
        "print(\"Array of zeros:\")\n",
        "print(zeros_array)"
      ],
      "metadata": {
        "colab": {
          "base_uri": "https://localhost:8080/"
        },
        "id": "hAYPaTtLvc8S",
        "outputId": "a47b1e52-da99-4141-88d1-017c5137a508"
      },
      "execution_count": null,
      "outputs": [
        {
          "output_type": "stream",
          "name": "stdout",
          "text": [
            "Array of zeros:\n",
            "[[0. 0. 0.]\n",
            " [0. 0. 0.]]\n"
          ]
        }
      ]
    },
    {
      "cell_type": "markdown",
      "source": [
        "### Using `np.ones()`"
      ],
      "metadata": {
        "id": "wYBehnncvgt0"
      }
    },
    {
      "cell_type": "code",
      "source": [
        "ones_array = np.ones((2, 3))\n",
        "print(\"Array of ones:\")\n",
        "print(ones_array)"
      ],
      "metadata": {
        "colab": {
          "base_uri": "https://localhost:8080/"
        },
        "id": "Hu2nOF_UvejC",
        "outputId": "aa7dfc83-97a2-4f41-92c8-9bf4a96e760c"
      },
      "execution_count": null,
      "outputs": [
        {
          "output_type": "stream",
          "name": "stdout",
          "text": [
            "Array of ones:\n",
            "[[1. 1. 1.]\n",
            " [1. 1. 1.]]\n"
          ]
        }
      ]
    },
    {
      "cell_type": "markdown",
      "source": [
        "### Using `np.arange()`\n",
        "\n",
        "lower bound inclusive, upper bound exclusive"
      ],
      "metadata": {
        "id": "xJUMyRcjvkjs"
      }
    },
    {
      "cell_type": "code",
      "source": [
        "arange_array = np.arange(1, 10, 2)\n",
        "print(\"Array using np.arange():\", arange_array)"
      ],
      "metadata": {
        "colab": {
          "base_uri": "https://localhost:8080/"
        },
        "id": "dzq5Y1LivjKX",
        "outputId": "d72de5ef-6674-4d61-9bab-1b7fe0353f50"
      },
      "execution_count": null,
      "outputs": [
        {
          "output_type": "stream",
          "name": "stdout",
          "text": [
            "Array using np.arange(): [1 3 5 7 9]\n"
          ]
        }
      ]
    },
    {
      "cell_type": "markdown",
      "source": [
        "### Using `np.linspace()`\n",
        "\n",
        "both ends inclusive , unless added endpoint=False parameter"
      ],
      "metadata": {
        "id": "GvJ32vx3vnkM"
      }
    },
    {
      "cell_type": "code",
      "source": [
        "linspace_array = np.linspace(0, 1, 5,endpoint=False)\n",
        "print(\"Array using np.linspace():\", linspace_array)"
      ],
      "metadata": {
        "colab": {
          "base_uri": "https://localhost:8080/"
        },
        "id": "pt8m7OzJvl91",
        "outputId": "aff9a3ee-7be6-40d7-da09-bb124cb6151e"
      },
      "execution_count": null,
      "outputs": [
        {
          "output_type": "stream",
          "name": "stdout",
          "text": [
            "Array using np.linspace(): [0.  0.2 0.4 0.6 0.8]\n"
          ]
        }
      ]
    },
    {
      "cell_type": "markdown",
      "source": [
        "How is `arange` and `linspace` different ?\n",
        "\n",
        "- `arange` generates values from 1 to 10 with a step of 2\n",
        "- `linspace` generates 5 values from 1 to 10 (inclusive)"
      ],
      "metadata": {
        "id": "qtbj_Lca1ekF"
      }
    },
    {
      "cell_type": "markdown",
      "source": [
        "### Using `np.random` Module\n",
        "\n",
        "lower bound inclusive, upper bound exclusive"
      ],
      "metadata": {
        "id": "uu848pQ6vt_U"
      }
    },
    {
      "cell_type": "code",
      "source": [
        "random_integers = np.random.randint(1, 10, size=(2, 3))\n",
        "print(\"Random integers array:\")\n",
        "print(random_integers)"
      ],
      "metadata": {
        "colab": {
          "base_uri": "https://localhost:8080/"
        },
        "id": "bXqxjcUJvot9",
        "outputId": "7d382f61-0a4e-4db4-a147-32654d4c8bb0"
      },
      "execution_count": null,
      "outputs": [
        {
          "output_type": "stream",
          "name": "stdout",
          "text": [
            "Random integers array:\n",
            "[[4 7 5]\n",
            " [8 2 2]]\n"
          ]
        }
      ]
    },
    {
      "cell_type": "markdown",
      "source": [
        "---"
      ],
      "metadata": {
        "id": "3ibCORctv65V"
      }
    },
    {
      "cell_type": "markdown",
      "source": [
        "# Additional Topics for Starting ML with NumPy"
      ],
      "metadata": {
        "id": "iImEEcm8v6Al"
      }
    },
    {
      "cell_type": "markdown",
      "source": [
        "### Array Indexing and Slicing"
      ],
      "metadata": {
        "id": "U_W8-8MIv8fF"
      }
    },
    {
      "cell_type": "markdown",
      "source": [
        "#### 1D Array Slicing"
      ],
      "metadata": {
        "id": "2DJTe3-Gw3dk"
      }
    },
    {
      "cell_type": "code",
      "source": [
        "array = np.array([10, 20, 30, 40, 50])\n",
        "print(\"Original Array:\", array)\n",
        "print(\"Element at index 2:\", array[2])\n",
        "print(\"Slice (index 1 to 3):\", array[1:4])"
      ],
      "metadata": {
        "colab": {
          "base_uri": "https://localhost:8080/"
        },
        "id": "DmzAtZKbv_4c",
        "outputId": "cce8feae-ffbf-4c9b-b8a9-ee12cabdb17b"
      },
      "execution_count": null,
      "outputs": [
        {
          "output_type": "stream",
          "name": "stdout",
          "text": [
            "Original Array: [10 20 30 40 50]\n",
            "Element at index 2: 30\n",
            "Slice (index 1 to 3): [20 30 40]\n"
          ]
        }
      ]
    },
    {
      "cell_type": "markdown",
      "source": [
        "#### 2D Array Slicing"
      ],
      "metadata": {
        "id": "e_lJQMDEw9P-"
      }
    },
    {
      "cell_type": "markdown",
      "source": [
        "slicing of rows and columns separated by comma"
      ],
      "metadata": {
        "id": "2JvZ6Oe3xUUF"
      }
    },
    {
      "cell_type": "code",
      "source": [
        "array_2d = np.array([[10, 20, 30], [40, 50, 60], [70, 80, 90]])\n",
        "print(\"Original 2D Array:\")\n",
        "print(array_2d)\n",
        "print()\n",
        "print(\"Slice row 1:\", array_2d[1, :])  # Entire second row\n",
        "print()\n",
        "print(\"Slice column 2:\", array_2d[:, 2])  # Entire third column\n",
        "print()\n",
        "print(\"Slice subarray (rows 0-1, cols 1-2):\")\n",
        "print(array_2d[0:2, 1:3])"
      ],
      "metadata": {
        "colab": {
          "base_uri": "https://localhost:8080/"
        },
        "id": "hDiq7gRYw_rE",
        "outputId": "3bf17d8d-af0e-4535-b237-926acb5a1c6f"
      },
      "execution_count": null,
      "outputs": [
        {
          "output_type": "stream",
          "name": "stdout",
          "text": [
            "Original 2D Array:\n",
            "[[10 20 30]\n",
            " [40 50 60]\n",
            " [70 80 90]]\n",
            "\n",
            "Slice row 1: [40 50 60]\n",
            "\n",
            "Slice column 2: [30 60 90]\n",
            "\n",
            "Slice subarray (rows 0-1, cols 1-2):\n",
            "[[20 30]\n",
            " [50 60]]\n"
          ]
        }
      ]
    },
    {
      "cell_type": "markdown",
      "source": [
        "---"
      ],
      "metadata": {
        "id": "9BLGi6mEyKH0"
      }
    },
    {
      "cell_type": "markdown",
      "source": [
        "### Array Operations"
      ],
      "metadata": {
        "id": "4zdFsImQwBl9"
      }
    },
    {
      "cell_type": "code",
      "source": [
        "array1 = np.array([1, 2, 3])\n",
        "array2 = np.array([4, 5, 6])\n",
        "\n",
        "print(\"Addition:\", array1 + array2)\n",
        "print(\"Multiplication:\", array1 * array2)"
      ],
      "metadata": {
        "colab": {
          "base_uri": "https://localhost:8080/"
        },
        "id": "T1W27pknvvP3",
        "outputId": "4f731ad5-3330-414b-8268-90722d48bf83"
      },
      "execution_count": null,
      "outputs": [
        {
          "output_type": "stream",
          "name": "stdout",
          "text": [
            "Addition: [5 7 9]\n",
            "Multiplication: [ 4 10 18]\n"
          ]
        }
      ]
    },
    {
      "cell_type": "markdown",
      "source": [
        "---"
      ],
      "metadata": {
        "id": "RjsIDNfPyF7L"
      }
    },
    {
      "cell_type": "markdown",
      "source": [
        "### Broadcasting"
      ],
      "metadata": {
        "id": "zDjRRCNXwEbs"
      }
    },
    {
      "cell_type": "markdown",
      "source": [
        "#### Where Broadcasting Works"
      ],
      "metadata": {
        "id": "7S2bgw-Sxwec"
      }
    },
    {
      "cell_type": "code",
      "source": [
        "array = np.array([[1, 2, 3], [4, 5, 6]])\n",
        "print(\"Original Array:\")\n",
        "print(array)\n",
        "print(\"After adding scalar 10:\")\n",
        "print(array + 10)  # Broadcasting works here"
      ],
      "metadata": {
        "colab": {
          "base_uri": "https://localhost:8080/"
        },
        "id": "6Y8pVyi0wCun",
        "outputId": "84e36ee1-aa7c-4e02-c46c-dcfdcd356e53"
      },
      "execution_count": null,
      "outputs": [
        {
          "output_type": "stream",
          "name": "stdout",
          "text": [
            "Original Array:\n",
            "[[1 2 3]\n",
            " [4 5 6]]\n",
            "After adding scalar 10:\n",
            "[[11 12 13]\n",
            " [14 15 16]]\n"
          ]
        }
      ]
    },
    {
      "cell_type": "markdown",
      "source": [
        "#### Where Broadcasting Fails"
      ],
      "metadata": {
        "id": "1Q4Lq8q2x2y8"
      }
    },
    {
      "cell_type": "code",
      "source": [
        "array1 = np.array([[1, 2, 3], [4, 5, 6]])\n",
        "array2 = np.array([1, 2])  # Mismatched dimensions\n",
        "try:\n",
        "    print(\"Attempting to add arrays with mismatched dimensions:\")\n",
        "    print(array1 + array2)\n",
        "except ValueError as e:\n",
        "    print(\"Error:\", e)"
      ],
      "metadata": {
        "colab": {
          "base_uri": "https://localhost:8080/"
        },
        "id": "dCxsBwwhx3I8",
        "outputId": "51933b5c-d729-4468-b503-21a4e2611339"
      },
      "execution_count": null,
      "outputs": [
        {
          "output_type": "stream",
          "name": "stdout",
          "text": [
            "Attempting to add arrays with mismatched dimensions:\n",
            "Error: operands could not be broadcast together with shapes (2,3) (2,) \n"
          ]
        }
      ]
    },
    {
      "cell_type": "markdown",
      "source": [
        "---"
      ],
      "metadata": {
        "id": "KVu_mIhmyG90"
      }
    },
    {
      "cell_type": "markdown",
      "source": [
        "### Matrix Multiplication"
      ],
      "metadata": {
        "id": "Qh00b1UBwJnU"
      }
    },
    {
      "cell_type": "code",
      "source": [
        "matrix1 = np.array([[1, 2], [3, 4]])\n",
        "matrix2 = np.array([[5, 6], [7, 8]])\n",
        "\n",
        "print(\"Matrix Multiplication:\")\n",
        "print(np.dot(matrix1, matrix2))"
      ],
      "metadata": {
        "colab": {
          "base_uri": "https://localhost:8080/"
        },
        "id": "lUKXc_HiwFtL",
        "outputId": "8a0e52e8-5c3c-4af1-b547-0ed26f758674"
      },
      "execution_count": null,
      "outputs": [
        {
          "output_type": "stream",
          "name": "stdout",
          "text": [
            "Matrix Multiplication:\n",
            "[[19 22]\n",
            " [43 50]]\n"
          ]
        }
      ]
    },
    {
      "cell_type": "code",
      "source": [
        "matrix1@matrix2"
      ],
      "metadata": {
        "colab": {
          "base_uri": "https://localhost:8080/"
        },
        "id": "lwhrdXslwLeQ",
        "outputId": "ff1ba0fb-82eb-48f0-99ad-ac428d73d5eb"
      },
      "execution_count": null,
      "outputs": [
        {
          "output_type": "execute_result",
          "data": {
            "text/plain": [
              "array([[19, 22],\n",
              "       [43, 50]])"
            ]
          },
          "metadata": {},
          "execution_count": 80
        }
      ]
    },
    {
      "cell_type": "markdown",
      "source": [
        "---"
      ],
      "metadata": {
        "id": "jablsEF4yEbk"
      }
    },
    {
      "cell_type": "markdown",
      "source": [
        "### Aggregations"
      ],
      "metadata": {
        "id": "fsw2NsjIyC0u"
      }
    },
    {
      "cell_type": "code",
      "source": [
        "array = np.array([1, 2, 3, 4, 5])\n",
        "print(\"Sum:\", np.sum(array))\n",
        "print(\"Mean:\", np.mean(array))\n",
        "print(\"Max:\", np.max(array))"
      ],
      "metadata": {
        "colab": {
          "base_uri": "https://localhost:8080/"
        },
        "id": "3JMtuOqDyDrf",
        "outputId": "5830309a-c15a-4d2f-fc3a-1a65aaa8274b"
      },
      "execution_count": null,
      "outputs": [
        {
          "output_type": "stream",
          "name": "stdout",
          "text": [
            "Sum: 15\n",
            "Mean: 3.0\n",
            "Max: 5\n"
          ]
        }
      ]
    }
  ]
}